{
  "nbformat": 4,
  "nbformat_minor": 0,
  "metadata": {
    "colab": {
      "name": "HMM+_based+POS+tagging_+Assignment_NIKITA.ipynb",
      "provenance": [],
      "collapsed_sections": [
        "ocJZ8adx6Yuz",
        "ZkCd5rgr6Yvp"
      ]
    },
    "kernelspec": {
      "display_name": "Python 3",
      "language": "python",
      "name": "python3"
    },
    "language_info": {
      "codemirror_mode": {
        "name": "ipython",
        "version": 3
      },
      "file_extension": ".py",
      "mimetype": "text/x-python",
      "name": "python",
      "nbconvert_exporter": "python",
      "pygments_lexer": "ipython3",
      "version": "3.7.4"
    }
  },
  "cells": [
    {
      "cell_type": "markdown",
      "metadata": {
        "colab_type": "text",
        "id": "p49rXszr6Yt8"
      },
      "source": [
        "## POS tagging using modified Viterbi"
      ]
    },
    {
      "cell_type": "markdown",
      "metadata": {
        "colab_type": "text",
        "id": "sL2U06vd6Yt9"
      },
      "source": [
        "### Data Preparation"
      ]
    },
    {
      "cell_type": "code",
      "metadata": {
        "colab_type": "code",
        "id": "h6uTif7N6Yt_",
        "outputId": "c3e157bb-9aa8-4e31-992d-fda04a7349b0",
        "colab": {
          "base_uri": "https://localhost:8080/",
          "height": 105
        }
      },
      "source": [
        "import nltk\n",
        "nltk.download('universal_tagset')\n",
        "#Importing libraries\n",
        "import nltk, re, pprint\n",
        "import numpy as np\n",
        "import pandas as pd\n",
        "import requests\n",
        "import matplotlib.pyplot as plt\n",
        "import seaborn as sns\n",
        "import pprint, time\n",
        "import random\n",
        "from sklearn.model_selection import train_test_split\n",
        "from nltk.tokenize import word_tokenize"
      ],
      "execution_count": 1,
      "outputs": [
        {
          "output_type": "stream",
          "text": [
            "[nltk_data] Downloading package universal_tagset to /root/nltk_data...\n",
            "[nltk_data]   Unzipping taggers/universal_tagset.zip.\n"
          ],
          "name": "stdout"
        },
        {
          "output_type": "stream",
          "text": [
            "/usr/local/lib/python3.6/dist-packages/statsmodels/tools/_testing.py:19: FutureWarning: pandas.util.testing is deprecated. Use the functions in the public API at pandas.testing instead.\n",
            "  import pandas.util.testing as tm\n"
          ],
          "name": "stderr"
        }
      ]
    },
    {
      "cell_type": "code",
      "metadata": {
        "colab_type": "code",
        "id": "eNAZGUWQ6YuE",
        "outputId": "0c1ccb79-7f06-4ee4-848d-98204148566d",
        "colab": {
          "base_uri": "https://localhost:8080/",
          "height": 51
        }
      },
      "source": [
        "# reading the Treebank tagged sentences\n",
        "import nltk\n",
        "nltk.download('treebank')\n",
        "nltk_treebank_data = list(nltk.corpus.treebank.tagged_sents(tagset='universal'))"
      ],
      "execution_count": 2,
      "outputs": [
        {
          "output_type": "stream",
          "text": [
            "[nltk_data] Downloading package treebank to /root/nltk_data...\n",
            "[nltk_data]   Unzipping corpora/treebank.zip.\n"
          ],
          "name": "stdout"
        }
      ]
    },
    {
      "cell_type": "code",
      "metadata": {
        "colab_type": "code",
        "id": "9dpddvAA6YuI",
        "outputId": "0fd5d30e-8d24-4578-8d57-7a0a7ee5cafb",
        "scrolled": false,
        "colab": {
          "base_uri": "https://localhost:8080/",
          "height": 323
        }
      },
      "source": [
        "nltk_treebank_data[:1]"
      ],
      "execution_count": 3,
      "outputs": [
        {
          "output_type": "execute_result",
          "data": {
            "text/plain": [
              "[[('Pierre', 'NOUN'),\n",
              "  ('Vinken', 'NOUN'),\n",
              "  (',', '.'),\n",
              "  ('61', 'NUM'),\n",
              "  ('years', 'NOUN'),\n",
              "  ('old', 'ADJ'),\n",
              "  (',', '.'),\n",
              "  ('will', 'VERB'),\n",
              "  ('join', 'VERB'),\n",
              "  ('the', 'DET'),\n",
              "  ('board', 'NOUN'),\n",
              "  ('as', 'ADP'),\n",
              "  ('a', 'DET'),\n",
              "  ('nonexecutive', 'ADJ'),\n",
              "  ('director', 'NOUN'),\n",
              "  ('Nov.', 'NOUN'),\n",
              "  ('29', 'NUM'),\n",
              "  ('.', '.')]]"
            ]
          },
          "metadata": {
            "tags": []
          },
          "execution_count": 3
        }
      ]
    },
    {
      "cell_type": "code",
      "metadata": {
        "colab_type": "code",
        "id": "aGags_3A6YuM",
        "outputId": "97c8df2b-44f5-4321-e9a8-d55669f39b33",
        "colab": {
          "base_uri": "https://localhost:8080/",
          "height": 88
        }
      },
      "source": [
        "# Splitting into train and validation\n",
        "random.seed(1234)\n",
        "train_set, validation_set = train_test_split(nltk_treebank_data,test_size=0.05)\n",
        "\n",
        "print(len(train_set))\n",
        "print(len(validation_set))\n",
        "print(train_set[-1])"
      ],
      "execution_count": 4,
      "outputs": [
        {
          "output_type": "stream",
          "text": [
            "3718\n",
            "196\n",
            "[('The', 'DET'), ('new', 'ADJ'), ('securities', 'NOUN'), (',', '.'), ('part', 'NOUN'), ('of', 'ADP'), ('the', 'DET'), ('federal', 'ADJ'), ('government', 'NOUN'), (\"'s\", 'PRT'), ('regular', 'ADJ'), ('quarterly', 'ADJ'), ('refunding', 'VERB'), (',', '.'), ('will', 'VERB'), ('consist', 'VERB'), ('of', 'ADP'), (':', '.')]\n"
          ],
          "name": "stdout"
        }
      ]
    },
    {
      "cell_type": "code",
      "metadata": {
        "colab_type": "code",
        "id": "TulU_m5D6YuR",
        "outputId": "28617469-1df5-4132-f89a-e75656a954f7",
        "colab": {
          "base_uri": "https://localhost:8080/",
          "height": 34
        }
      },
      "source": [
        "# Getting list of tagged words\n",
        "train_words_list = [tup for sent in train_set for tup in sent]\n",
        "len(train_words_list)"
      ],
      "execution_count": 5,
      "outputs": [
        {
          "output_type": "execute_result",
          "data": {
            "text/plain": [
              "95657"
            ]
          },
          "metadata": {
            "tags": []
          },
          "execution_count": 5
        }
      ]
    },
    {
      "cell_type": "code",
      "metadata": {
        "colab_type": "code",
        "id": "bh5qHuH_6YuV",
        "outputId": "c0095df0-c067-4649-ff30-dc0529aa4e7c",
        "colab": {
          "base_uri": "https://localhost:8080/",
          "height": 187
        }
      },
      "source": [
        "# tokens \n",
        "train_tokens_list = [pair[0] for pair in train_words_list]\n",
        "train_tokens_list[:10]"
      ],
      "execution_count": 6,
      "outputs": [
        {
          "output_type": "execute_result",
          "data": {
            "text/plain": [
              "['Still',\n",
              " ',',\n",
              " 'some',\n",
              " 'market',\n",
              " 'analysts',\n",
              " 'say',\n",
              " '0',\n",
              " 'the',\n",
              " 'current',\n",
              " '3.3']"
            ]
          },
          "metadata": {
            "tags": []
          },
          "execution_count": 6
        }
      ]
    },
    {
      "cell_type": "code",
      "metadata": {
        "colab_type": "code",
        "id": "9yo4G6jw6Yua",
        "outputId": "995d42c4-7383-44d8-e288-51990ac222cf",
        "colab": {
          "base_uri": "https://localhost:8080/",
          "height": 34
        }
      },
      "source": [
        "# vocabulary\n",
        "unique_train_words_list = set(train_tokens_list)\n",
        "print(len(unique_train_words_list))"
      ],
      "execution_count": 7,
      "outputs": [
        {
          "output_type": "stream",
          "text": [
            "12065\n"
          ],
          "name": "stdout"
        }
      ]
    },
    {
      "cell_type": "code",
      "metadata": {
        "colab_type": "code",
        "id": "JnKvGwNe6Yug",
        "outputId": "0e910d90-63d5-4e9f-d5c1-6e9aae17efdc",
        "colab": {
          "base_uri": "https://localhost:8080/",
          "height": 51
        }
      },
      "source": [
        "# number of tags\n",
        "unique_train_tags_list = set([i[1] for i in train_words_list])\n",
        "print(len(unique_train_tags_list))\n",
        "print(unique_train_tags_list)"
      ],
      "execution_count": 8,
      "outputs": [
        {
          "output_type": "stream",
          "text": [
            "12\n",
            "{'PRT', 'NUM', 'ADJ', 'PRON', 'CONJ', 'ADP', 'ADV', 'NOUN', '.', 'VERB', 'X', 'DET'}\n"
          ],
          "name": "stdout"
        }
      ]
    },
    {
      "cell_type": "markdown",
      "metadata": {
        "colab_type": "text",
        "id": "bN1NSuLt6Yuk"
      },
      "source": [
        "### 2. POS Tagging Algorithm - HMM"
      ]
    },
    {
      "cell_type": "markdown",
      "metadata": {
        "colab_type": "raw",
        "id": "EII2FN-W6Yul"
      },
      "source": [
        "We'll use the HMM algorithm to tag the words. Given a sequence of words to be tagged, the task is to assign the most probable tag to the word.\n",
        "\n",
        "In other words, to every word w, assign the tag t that maximises the likelihood P(t/w). Since P(t/w) = P(w/t). P(t) / P(w), after ignoring P(w), we have to compute P(w/t) and P(t).\n",
        "\n",
        "P(w/t) is basically the probability that given a tag (say NN), what is the probability of it being w (say 'building'). This can be computed by computing the fraction of all NNs which are equal to w, i.e.\n",
        "\n",
        "P(w/t) = count(w, t) / count(t).\n",
        "\n",
        "The term P(t) is the probability of tag t, and in a tagging task, we assume that a tag will depend only on the previous tag. In other words, the probability of a tag being NN will depend only on the previous tag t(n-1). So for e.g. if t(n-1) is a JJ, then t(n) is likely to be an NN since adjectives often precede a noun (blue coat, tall building etc.).\n",
        "\n",
        "Given the penn treebank tagged dataset, we can compute the two terms P(w/t) and P(t) and store them in two large matrices. The matrix of P(w/t) will be sparse, since each word will not be seen with most tags ever, and those terms will thus be zero."
      ]
    },
    {
      "cell_type": "markdown",
      "metadata": {
        "colab_type": "text",
        "id": "SG_-02hX6Yul"
      },
      "source": [
        "#### Emission Probabilities"
      ]
    },
    {
      "cell_type": "code",
      "metadata": {
        "colab_type": "code",
        "id": "cFv_Y3v26Yum",
        "outputId": "f0dbd8a5-abda-419f-e36c-c0108d92079c",
        "colab": {
          "base_uri": "https://localhost:8080/",
          "height": 34
        }
      },
      "source": [
        "# computing P(w/t) and storing in T x V matrix\n",
        "train_tags_len_list = len(unique_train_tags_list)\n",
        "train_words_len_list = len(unique_train_words_list)\n",
        "word_given_tag = np.zeros((train_tags_len_list, train_words_len_list))\n",
        "print(word_given_tag.shape)"
      ],
      "execution_count": 9,
      "outputs": [
        {
          "output_type": "stream",
          "text": [
            "(12, 12065)\n"
          ],
          "name": "stdout"
        }
      ]
    },
    {
      "cell_type": "code",
      "metadata": {
        "colab_type": "code",
        "id": "fGNYhecG6Yuq",
        "colab": {}
      },
      "source": [
        "# compute word given tag: Emission Probability\n",
        "def word_given_tag_func(word, tag, train_bag = train_words_list):\n",
        "#     (tony,NNP)\n",
        "    tag_list = [pair for pair in train_bag if pair[1]==tag]\n",
        "    count_tag = len(tag_list)\n",
        "    w_given_tag_list = [pair[0] for pair in tag_list if pair[0]==word]\n",
        "    count_w_given_tag = len(w_given_tag_list)\n",
        "    return (count_w_given_tag, count_tag)"
      ],
      "execution_count": 0,
      "outputs": []
    },
    {
      "cell_type": "markdown",
      "metadata": {
        "colab_type": "text",
        "id": "ocJZ8adx6Yuz"
      },
      "source": [
        "### Transition Probabilities"
      ]
    },
    {
      "cell_type": "code",
      "metadata": {
        "colab_type": "code",
        "id": "IcsoRO_M6Yu0",
        "colab": {}
      },
      "source": [
        "# compute tag given tag: tag2(t2) given tag1 (t1), i.e. Transition Probability\n",
        "\n",
        "def tag2_given_tag1(t2, t1, train_bag = train_words_list):\n",
        "    tags = [pair[1] for pair in train_bag]\n",
        "    count_t1 = len([t for t in tags if t==t1])\n",
        "    count_t2_t1 = 0\n",
        "    for index in range(len(tags)-1):\n",
        "        if tags[index]==t1 and tags[index+1] == t2:\n",
        "            count_t2_t1 += 1\n",
        "    return (count_t2_t1, count_t1)"
      ],
      "execution_count": 0,
      "outputs": []
    },
    {
      "cell_type": "code",
      "metadata": {
        "colab_type": "code",
        "id": "xR9ynQTI6Yu7",
        "colab": {}
      },
      "source": [
        "# creating t x t transition matrix of tags\n",
        "# each column is t2, each row is t1\n",
        "# thus M(i, j) represents P(tj given ti)\n",
        "\n",
        "tags_matrix = np.zeros((len(unique_train_tags_list), len(unique_train_tags_list)), dtype='float32')\n",
        "\n",
        "for i, t1 in enumerate(list(unique_train_tags_list)):\n",
        "    for j, t2 in enumerate(list(unique_train_tags_list)): \n",
        "        tags_matrix[i, j] = tag2_given_tag1(t2, t1)[0]/tag2_given_tag1(t2, t1)[1]"
      ],
      "execution_count": 0,
      "outputs": []
    },
    {
      "cell_type": "code",
      "metadata": {
        "colab_type": "code",
        "id": "qZOEduTu6YvA",
        "colab": {}
      },
      "source": [
        "# convert the matrix to a df for better readability\n",
        "tags_df = pd.DataFrame(tags_matrix, columns = list(unique_train_tags_list), index=list(unique_train_tags_list))"
      ],
      "execution_count": 0,
      "outputs": []
    },
    {
      "cell_type": "code",
      "metadata": {
        "colab_type": "code",
        "id": "uYta1YLh6YvE",
        "outputId": "2caed50b-dd25-412d-ced7-d7dd562ca0ff",
        "colab": {
          "base_uri": "https://localhost:8080/",
          "height": 204
        }
      },
      "source": [
        "tags_df.head()"
      ],
      "execution_count": 14,
      "outputs": [
        {
          "output_type": "execute_result",
          "data": {
            "text/html": [
              "<div>\n",
              "<style scoped>\n",
              "    .dataframe tbody tr th:only-of-type {\n",
              "        vertical-align: middle;\n",
              "    }\n",
              "\n",
              "    .dataframe tbody tr th {\n",
              "        vertical-align: top;\n",
              "    }\n",
              "\n",
              "    .dataframe thead th {\n",
              "        text-align: right;\n",
              "    }\n",
              "</style>\n",
              "<table border=\"1\" class=\"dataframe\">\n",
              "  <thead>\n",
              "    <tr style=\"text-align: right;\">\n",
              "      <th></th>\n",
              "      <th>PRT</th>\n",
              "      <th>NUM</th>\n",
              "      <th>ADJ</th>\n",
              "      <th>PRON</th>\n",
              "      <th>CONJ</th>\n",
              "      <th>ADP</th>\n",
              "      <th>ADV</th>\n",
              "      <th>NOUN</th>\n",
              "      <th>.</th>\n",
              "      <th>VERB</th>\n",
              "      <th>X</th>\n",
              "      <th>DET</th>\n",
              "    </tr>\n",
              "  </thead>\n",
              "  <tbody>\n",
              "    <tr>\n",
              "      <th>PRT</th>\n",
              "      <td>0.001635</td>\n",
              "      <td>0.056900</td>\n",
              "      <td>0.084696</td>\n",
              "      <td>0.017986</td>\n",
              "      <td>0.002289</td>\n",
              "      <td>0.020929</td>\n",
              "      <td>0.009810</td>\n",
              "      <td>0.247874</td>\n",
              "      <td>0.042511</td>\n",
              "      <td>0.401897</td>\n",
              "      <td>0.014061</td>\n",
              "      <td>0.099411</td>\n",
              "    </tr>\n",
              "    <tr>\n",
              "      <th>NUM</th>\n",
              "      <td>0.025831</td>\n",
              "      <td>0.183492</td>\n",
              "      <td>0.035036</td>\n",
              "      <td>0.001485</td>\n",
              "      <td>0.012767</td>\n",
              "      <td>0.035036</td>\n",
              "      <td>0.002969</td>\n",
              "      <td>0.357185</td>\n",
              "      <td>0.115202</td>\n",
              "      <td>0.017518</td>\n",
              "      <td>0.209917</td>\n",
              "      <td>0.003563</td>\n",
              "    </tr>\n",
              "    <tr>\n",
              "      <th>ADJ</th>\n",
              "      <td>0.010401</td>\n",
              "      <td>0.021298</td>\n",
              "      <td>0.066204</td>\n",
              "      <td>0.000660</td>\n",
              "      <td>0.016510</td>\n",
              "      <td>0.077596</td>\n",
              "      <td>0.004788</td>\n",
              "      <td>0.700016</td>\n",
              "      <td>0.064058</td>\n",
              "      <td>0.012217</td>\n",
              "      <td>0.021298</td>\n",
              "      <td>0.004953</td>\n",
              "    </tr>\n",
              "    <tr>\n",
              "      <th>PRON</th>\n",
              "      <td>0.012261</td>\n",
              "      <td>0.007663</td>\n",
              "      <td>0.071264</td>\n",
              "      <td>0.008046</td>\n",
              "      <td>0.005364</td>\n",
              "      <td>0.022989</td>\n",
              "      <td>0.033333</td>\n",
              "      <td>0.209962</td>\n",
              "      <td>0.041762</td>\n",
              "      <td>0.486207</td>\n",
              "      <td>0.091571</td>\n",
              "      <td>0.009579</td>\n",
              "    </tr>\n",
              "    <tr>\n",
              "      <th>CONJ</th>\n",
              "      <td>0.005143</td>\n",
              "      <td>0.042543</td>\n",
              "      <td>0.114540</td>\n",
              "      <td>0.059374</td>\n",
              "      <td>0.000468</td>\n",
              "      <td>0.054698</td>\n",
              "      <td>0.053763</td>\n",
              "      <td>0.349229</td>\n",
              "      <td>0.035998</td>\n",
              "      <td>0.155680</td>\n",
              "      <td>0.008883</td>\n",
              "      <td>0.119682</td>\n",
              "    </tr>\n",
              "  </tbody>\n",
              "</table>\n",
              "</div>"
            ],
            "text/plain": [
              "           PRT       NUM       ADJ  ...      VERB         X       DET\n",
              "PRT   0.001635  0.056900  0.084696  ...  0.401897  0.014061  0.099411\n",
              "NUM   0.025831  0.183492  0.035036  ...  0.017518  0.209917  0.003563\n",
              "ADJ   0.010401  0.021298  0.066204  ...  0.012217  0.021298  0.004953\n",
              "PRON  0.012261  0.007663  0.071264  ...  0.486207  0.091571  0.009579\n",
              "CONJ  0.005143  0.042543  0.114540  ...  0.155680  0.008883  0.119682\n",
              "\n",
              "[5 rows x 12 columns]"
            ]
          },
          "metadata": {
            "tags": []
          },
          "execution_count": 14
        }
      ]
    },
    {
      "cell_type": "markdown",
      "metadata": {
        "colab_type": "text",
        "id": "0Srx1hco6YvK"
      },
      "source": [
        "### 3. Vanilla Viterbi Algorithm"
      ]
    },
    {
      "cell_type": "markdown",
      "metadata": {
        "colab_type": "raw",
        "id": "yYZzhqJF6YvL"
      },
      "source": [
        "Let's now use the computed probabilities P(w, tag) and P(t2, t1) to assign tags to each word in the document. We'll run through each word w and compute P(tag/w)=P(w/tag).P(tag) for each tag in the tag set, and then assign the tag having the max P(tag/w).\n",
        "\n",
        "We'll store the assigned tags in a list of tuples, similar to the list 'train_tagged_words'. Each tuple will be a (token, assigned_tag). As we progress further in the list, each tag to be assigned will use the tag of the previous token.\n",
        "\n",
        "Note: P(tag|start) = P(tag|'.')"
      ]
    },
    {
      "cell_type": "code",
      "metadata": {
        "colab_type": "code",
        "id": "j8zFzFVY6YvM",
        "outputId": "190683a7-285c-458d-97f8-36fc4ebdebf5",
        "colab": {
          "base_uri": "https://localhost:8080/",
          "height": 34
        }
      },
      "source": [
        "len(train_words_list)"
      ],
      "execution_count": 15,
      "outputs": [
        {
          "output_type": "execute_result",
          "data": {
            "text/plain": [
              "95657"
            ]
          },
          "metadata": {
            "tags": []
          },
          "execution_count": 15
        }
      ]
    },
    {
      "cell_type": "code",
      "metadata": {
        "colab_type": "code",
        "id": "stffLSqc6YvT",
        "outputId": "9851b424-4cf7-4635-986e-45e1db8c5e90",
        "colab": {
          "base_uri": "https://localhost:8080/",
          "height": 102
        }
      },
      "source": [
        "train_words_list[:5]"
      ],
      "execution_count": 16,
      "outputs": [
        {
          "output_type": "execute_result",
          "data": {
            "text/plain": [
              "[('Still', 'ADV'),\n",
              " (',', '.'),\n",
              " ('some', 'DET'),\n",
              " ('market', 'NOUN'),\n",
              " ('analysts', 'NOUN')]"
            ]
          },
          "metadata": {
            "tags": []
          },
          "execution_count": 16
        }
      ]
    },
    {
      "cell_type": "code",
      "metadata": {
        "colab_type": "code",
        "id": "pBnTnHVa6YvX",
        "colab": {}
      },
      "source": [
        "# Viterbi Heuristic\n",
        "def Vanilla_Viterbi(words, train_bag = train_words_list):\n",
        "    state = []\n",
        "    T = list(set([pair[1] for pair in train_bag]))\n",
        "    \n",
        "    for key, word in enumerate(words):\n",
        "        #initialise list of probability column for a given observation\n",
        "        p = [] \n",
        "        for tag in T:\n",
        "            if key == 0:\n",
        "                transition_p = tags_df.loc['.', tag]\n",
        "            else:\n",
        "                transition_p = tags_df.loc[state[-1], tag]\n",
        "                \n",
        "            # compute emission and state probabilities\n",
        "            emission_p = word_given_tag_func(words[key], tag)[0]/word_given_tag_func(words[key], tag)[1]\n",
        "            state_probability = emission_p * transition_p    \n",
        "            p.append(state_probability)\n",
        "            \n",
        "        pmax = max(p)\n",
        "        # getting state for which probability is maximum\n",
        "        state_max = T[p.index(pmax)] \n",
        "        state.append(state_max)\n",
        "    return list(zip(words, state))"
      ],
      "execution_count": 0,
      "outputs": []
    },
    {
      "cell_type": "code",
      "metadata": {
        "colab_type": "code",
        "id": "ikwNF_xS6Yva",
        "colab": {}
      },
      "source": [
        "## 4. Evaluating on validation Set"
      ],
      "execution_count": 0,
      "outputs": []
    },
    {
      "cell_type": "code",
      "metadata": {
        "colab_type": "code",
        "id": "TR4ruqBS6Yve",
        "colab": {}
      },
      "source": [
        "random.seed(1234)\n",
        "\n",
        "# list of tagged words\n",
        "validation_run_base = [tup for sent in validation_set for tup in sent]\n",
        "\n",
        "# list of untagged words\n",
        "validation_words = [tup[0] for sent in validation_set for tup in sent]\n",
        "\n",
        "# tagging the Validation sentences\n",
        "\n",
        "tagged_seq = Vanilla_Viterbi(validation_words)"
      ],
      "execution_count": 0,
      "outputs": []
    },
    {
      "cell_type": "code",
      "metadata": {
        "colab_type": "code",
        "id": "99qwidzd6Yvh",
        "outputId": "3d190472-d73a-4ccb-beb1-dc0312ccf02d",
        "colab": {
          "base_uri": "https://localhost:8080/",
          "height": 34
        }
      },
      "source": [
        "\n",
        "# Let's check the accuracy of the vanilla viterbi algorithm\n",
        "sample_test_check = [i for i, j in zip(tagged_seq, validation_run_base) if i == j]\n",
        "\n",
        "vanilla_viterbi_accuracy_on_sample_test_data = len(sample_test_check)/len(tagged_seq)\n",
        "\n",
        "print(\"The accuracy of the Vanilla Viterbi Algorithm after modification with Method 1 is -\", vanilla_viterbi_accuracy_on_sample_test_data)"
      ],
      "execution_count": 20,
      "outputs": [
        {
          "output_type": "stream",
          "text": [
            "The accuracy of the Vanilla Viterbi Algorithm after modification with Method 1 is - 0.9033672046224347\n"
          ],
          "name": "stdout"
        }
      ]
    },
    {
      "cell_type": "markdown",
      "metadata": {
        "colab_type": "text",
        "id": "FxPTl2OM6Yvk"
      },
      "source": [
        "##### Before proceeding for dealing with unknown words, lets first see how many unknown words we have. Unknows words would be those words that are present in the test set but not in the train set. That is the words the algorithm has not seen before."
      ]
    },
    {
      "cell_type": "code",
      "metadata": {
        "colab_type": "code",
        "id": "KnBix9Pl6Yvl",
        "outputId": "610c6593-1f65-4f63-c5f2-7ad4baf14df9",
        "colab": {
          "base_uri": "https://localhost:8080/",
          "height": 34
        }
      },
      "source": [
        "# Unknown words \n",
        "\n",
        "unknown_words_in_validation = set([t for t in validation_words])\n",
        "\n",
        "unknown_words = list(unknown_words_in_validation - unique_train_words_list)\n",
        "print(\"Total Unknown words :\", len(unknown_words))\n"
      ],
      "execution_count": 21,
      "outputs": [
        {
          "output_type": "stream",
          "text": [
            "Total Unknown words : 343\n"
          ],
          "name": "stdout"
        }
      ]
    },
    {
      "cell_type": "markdown",
      "metadata": {
        "colab_type": "text",
        "id": "ZkCd5rgr6Yvp"
      },
      "source": [
        "### Solve the problem of unknown words"
      ]
    },
    {
      "cell_type": "markdown",
      "metadata": {
        "colab_type": "text",
        "id": "z__GBRX36Yvx"
      },
      "source": [
        "### Method 1"
      ]
    },
    {
      "cell_type": "markdown",
      "metadata": {
        "colab_type": "raw",
        "id": "M25gXmVM6Yvy"
      },
      "source": [
        "If word in unknown then\n",
        "    consider only the transition_p (emission probability being 0)\n",
        "else \n",
        "    consider both the emission and transition probability."
      ]
    },
    {
      "cell_type": "code",
      "metadata": {
        "colab_type": "code",
        "id": "ynXm5M9s6Yvz",
        "colab": {}
      },
      "source": [
        "def Vanilla_Viterbi_Method_1(words, train_bag = train_words_list):\n",
        "    state = []\n",
        "    T = list(set([pair[1] for pair in train_bag]))\n",
        "    \n",
        "    for key, word in enumerate(words):\n",
        "        #initialise list of probability column for a given observation\n",
        "        p = [] \n",
        "        for tag in T:\n",
        "            if key == 0:\n",
        "                transition_p = tags_df.loc['.', tag]\n",
        "            else:\n",
        "                transition_p = tags_df.loc[state[-1], tag]\n",
        "                \n",
        "            # compute emission and state probabilities\n",
        "            emission_p = word_given_tag_func(words[key], tag)[0]/word_given_tag_func(words[key], tag)[1]\n",
        "            \n",
        "            # modification to the original vanilla viterbi algorithm \n",
        "            if word not in unique_train_words_list:\n",
        "                state_probability = transition_p\n",
        "            else:\n",
        "                state_probability = emission_p * transition_p\n",
        "                \n",
        "            p.append(state_probability)\n",
        "            \n",
        "        pmax = max(p)\n",
        "        # getting state for which probability is maximum\n",
        "        state_max = T[p.index(pmax)] \n",
        "        state.append(state_max)\n",
        "    return list(zip(words, state))"
      ],
      "execution_count": 0,
      "outputs": []
    },
    {
      "cell_type": "code",
      "metadata": {
        "colab_type": "code",
        "id": "1dSj4mM76Yv4",
        "outputId": "17b579f3-00e4-45e7-dd04-8f8de1d3de70",
        "colab": {
          "base_uri": "https://localhost:8080/",
          "height": 34
        }
      },
      "source": [
        "# tagging the test sentences with Method 1 \n",
        "sample_test_unknown_word_tagged_seq = Vanilla_Viterbi_Method_1 (validation_words)\n",
        "\n",
        "# accuracy\n",
        "sample_test_unknown_word_check = [i for i, j in zip(sample_test_unknown_word_tagged_seq, validation_run_base) if i == j]\n",
        "\n",
        "sample_test_optimized_viterbi_accuracy = len(sample_test_unknown_word_check)/len(sample_test_unknown_word_tagged_seq)\n",
        "\n",
        "print(\"The accuracy of the Vanilla_Viterbi_for_Unknown_Words on the sample test data is -\", sample_test_optimized_viterbi_accuracy)"
      ],
      "execution_count": 23,
      "outputs": [
        {
          "output_type": "stream",
          "text": [
            "The accuracy of the Vanilla_Viterbi_for_Unknown_Words on the sample test data is - 0.935445307830245\n"
          ],
          "name": "stdout"
        }
      ]
    },
    {
      "cell_type": "markdown",
      "metadata": {
        "colab_type": "text",
        "id": "aPaReOFi6Yv7"
      },
      "source": [
        "### Method : 2"
      ]
    },
    {
      "cell_type": "code",
      "metadata": {
        "colab_type": "code",
        "id": "WWvhZRag6Yv8",
        "colab": {}
      },
      "source": [
        "def Unigram_Tagger_backedup_by_rulebased(word, train_set = train_set):\n",
        "    \n",
        "    patterns = [\n",
        "    (r'[aA-zZ]+(ed|ing|es)$', 'VERB'), # Any word ending with 'ing' or 'ed' is a verb\n",
        "\n",
        "    (r'.*ly$', 'ADV'),\n",
        "        \n",
        "    (r'^([0-9]|[aA-zZ])+\\-[aA-zZ]*$','ADJ'),\n",
        "    (r'.*able$', 'ADJ'), \n",
        "    (r'.*ful$', 'ADJ'),\n",
        "    (r'.*ous$', 'ADJ'),\n",
        "        \n",
        "    (r'^[aA-zZ].*[0-9]+','NOUN'),     # Alpha Numeric\n",
        "    (r'.*ness$', 'NOUN'),\n",
        "    (r'.*\\'s$', 'NOUN'),              # possessive nouns - words ending with 's\n",
        "    (r'.*s$', 'NOUN'),                # plural nouns\n",
        "    (r'.*ers$', 'NOUN'),              # eg.- kinderganteners, autobioghapgers\n",
        "    (r'.*ment$', 'NOUN'),\n",
        "    (r'.*town$', 'NOUN'),\n",
        "        \n",
        "    (r'^(0|([*|-|$].*))','X'), # Any special character combination\n",
        "    (r'.*ould$', 'X'),\n",
        "        \n",
        "    (r'(The|the|A|a|An|an|That|that|This|this|Those|those|These|these)$', 'DET'), # That/this/these/those belong to the category of Demonstrative determiners\n",
        "    (r'[0-9].?[,\\/]?[0-9]*','NUM'), # Numbers \n",
        "        \n",
        "    (r'.*', 'NOUN')\n",
        "    ]\n",
        "    \n",
        "    regex_based_tagger = nltk.RegexpTagger(patterns)\n",
        "    lexicon_tagger = nltk.UnigramTagger(train_set, backoff=regex_based_tagger)\n",
        "    return lexicon_tagger.tag_sents([[(word)]])\n",
        "    "
      ],
      "execution_count": 0,
      "outputs": []
    },
    {
      "cell_type": "code",
      "metadata": {
        "colab_type": "code",
        "id": "cMTChKIJ6Yv_",
        "colab": {}
      },
      "source": [
        "def Vanilla_Viterbi_Method_2 (words, train_bag = train_words_list):\n",
        "    state = []\n",
        "    tag_set = list(set([pair[1] for pair in train_bag]))\n",
        "    \n",
        "    # use the Unigram tagger backed up by the rule based tagger\n",
        "    # for unknown words.\n",
        "    for key, word in enumerate(words):\n",
        "        if word not in unique_train_words_list:\n",
        "            unknown_word_tag = Unigram_Tagger_backedup_by_rulebased(word)\n",
        "            for sent in unknown_word_tag:\n",
        "                for tup in sent:\n",
        "                    state.append(tup[1])\n",
        "        else:            \n",
        "            p = [] \n",
        "            for tag in tag_set:\n",
        "                if key == 0:\n",
        "                    transition_p = tags_df.loc['.', tag]\n",
        "                else:\n",
        "                    transition_p = tags_df.loc[state[-1], tag]\n",
        "                \n",
        "            # compute emission and state probabilities\n",
        "                emission_p = word_given_tag_func(words[key], tag)[0]/word_given_tag_func(words[key], tag)[1]\n",
        "                state_probability = emission_p * transition_p    \n",
        "                p.append(state_probability)\n",
        "            \n",
        "            pmax = max(p)\n",
        "            # getting state for which probability is maximum\n",
        "            state_max = tag_set[p.index(pmax)] \n",
        "            state.append(state_max)\n",
        "    return list(zip(words, state))"
      ],
      "execution_count": 0,
      "outputs": []
    },
    {
      "cell_type": "markdown",
      "metadata": {
        "colab_type": "text",
        "id": "C8gft_-96YwC"
      },
      "source": [
        "#### Evaluating tagging accuracy"
      ]
    },
    {
      "cell_type": "code",
      "metadata": {
        "colab_type": "code",
        "id": "Zr-vbWP_6YwE",
        "outputId": "566a1014-0e9b-4584-ccc5-c30ceb62b38b",
        "colab": {
          "base_uri": "https://localhost:8080/",
          "height": 34
        }
      },
      "source": [
        "# tagging the test sentences\n",
        "viterbi_unigram_tagged_seq = Vanilla_Viterbi_Method_2(validation_words)\n",
        "\n",
        "# accuracy\n",
        "viterbi_unigram_word_check = [i for i, j in zip(viterbi_unigram_tagged_seq, validation_run_base) if i == j]\n",
        "\n",
        "viterbi_unigram_accuracy = len(viterbi_unigram_word_check)/len(viterbi_unigram_tagged_seq)\n",
        "\n",
        "print(\"The accuracy of the Vanilla_Viterbi_for_unknown_words_method_2 i.e. Unigram_Tagger_backedup_by_rulebased is -\", viterbi_unigram_accuracy)"
      ],
      "execution_count": 28,
      "outputs": [
        {
          "output_type": "stream",
          "text": [
            "The accuracy of the Vanilla_Viterbi_for_unknown_words_method_2 i.e. Unigram_Tagger_backedup_by_rulebased is - 0.9583582386929668\n"
          ],
          "name": "stdout"
        }
      ]
    },
    {
      "cell_type": "markdown",
      "metadata": {
        "colab_type": "text",
        "id": "TKRaTsvT6YwI"
      },
      "source": [
        "### Compare the tagging accuracies of the modifications with the vanilla Viterbi algorithm"
      ]
    },
    {
      "cell_type": "code",
      "metadata": {
        "colab_type": "code",
        "id": "MLA18Lsu6YwJ",
        "outputId": "0c8fafb7-8047-4178-e3e3-c073525f8af8",
        "colab": {
          "base_uri": "https://localhost:8080/",
          "height": 173
        }
      },
      "source": [
        "acccuracy_on_sample_test_data = [['Vanilla Viterbi', vanilla_viterbi_accuracy_on_sample_test_data*100], \n",
        "                  ['Optimized Vanilla Viterbi', sample_test_optimized_viterbi_accuracy*100], \n",
        "                  ['Viterbi + Unigram Tagger', viterbi_unigram_accuracy*100]]\n",
        "\n",
        "acccuracy_data_df = pd.DataFrame(acccuracy_on_sample_test_data, columns = ['Tagging_Algorithm', 'Tagging_Accuracy'])\n",
        "\n",
        "acccuracy_data_df.set_index('Tagging_Algorithm', drop = True, inplace = True)\n",
        "\n",
        "acccuracy_data_df"
      ],
      "execution_count": 29,
      "outputs": [
        {
          "output_type": "execute_result",
          "data": {
            "text/html": [
              "<div>\n",
              "<style scoped>\n",
              "    .dataframe tbody tr th:only-of-type {\n",
              "        vertical-align: middle;\n",
              "    }\n",
              "\n",
              "    .dataframe tbody tr th {\n",
              "        vertical-align: top;\n",
              "    }\n",
              "\n",
              "    .dataframe thead th {\n",
              "        text-align: right;\n",
              "    }\n",
              "</style>\n",
              "<table border=\"1\" class=\"dataframe\">\n",
              "  <thead>\n",
              "    <tr style=\"text-align: right;\">\n",
              "      <th></th>\n",
              "      <th>Tagging_Accuracy</th>\n",
              "    </tr>\n",
              "    <tr>\n",
              "      <th>Tagging_Algorithm</th>\n",
              "      <th></th>\n",
              "    </tr>\n",
              "  </thead>\n",
              "  <tbody>\n",
              "    <tr>\n",
              "      <th>Vanilla Viterbi</th>\n",
              "      <td>90.336720</td>\n",
              "    </tr>\n",
              "    <tr>\n",
              "      <th>Optimized Vanilla Viterbi</th>\n",
              "      <td>93.544531</td>\n",
              "    </tr>\n",
              "    <tr>\n",
              "      <th>Viterbi + Unigram Tagger</th>\n",
              "      <td>95.835824</td>\n",
              "    </tr>\n",
              "  </tbody>\n",
              "</table>\n",
              "</div>"
            ],
            "text/plain": [
              "                           Tagging_Accuracy\n",
              "Tagging_Algorithm                          \n",
              "Vanilla Viterbi                   90.336720\n",
              "Optimized Vanilla Viterbi         93.544531\n",
              "Viterbi + Unigram Tagger          95.835824"
            ]
          },
          "metadata": {
            "tags": []
          },
          "execution_count": 29
        }
      ]
    },
    {
      "cell_type": "code",
      "metadata": {
        "colab_type": "code",
        "id": "MbFY_mNR6YwM",
        "outputId": "cd6763f2-5c44-4e9f-f41e-92fdb456c6c3",
        "colab": {
          "base_uri": "https://localhost:8080/",
          "height": 414
        }
      },
      "source": [
        "acccuracy_data_df.plot.line(rot = 90, legend = False)"
      ],
      "execution_count": 30,
      "outputs": [
        {
          "output_type": "execute_result",
          "data": {
            "text/plain": [
              "<matplotlib.axes._subplots.AxesSubplot at 0x7f3137cc6be0>"
            ]
          },
          "metadata": {
            "tags": []
          },
          "execution_count": 30
        },
        {
          "output_type": "display_data",
          "data": {
            "image/png": "[encoded data removed]",
            "text/plain": [
              "<Figure size 432x288 with 1 Axes>"
            ]
          },
          "metadata": {
            "tags": [],
            "needs_background": "light"
          }
        }
      ]
    },
    {
      "cell_type": "code",
      "metadata": {
        "colab_type": "code",
        "id": "gz30NOhE6YwQ",
        "colab": {}
      },
      "source": [
        "#### Testing on Sample"
      ],
      "execution_count": 0,
      "outputs": []
    },
    {
      "cell_type": "code",
      "metadata": {
        "colab_type": "code",
        "id": "xcJovaM-6YwT",
        "colab": {}
      },
      "source": [
        "sample_test_sentences = ['Android is a mobile operating system developed by Google.',\n",
        "\"Android has been the best-selling OS worldwide on smartphones since 2011 and on tablets since 2013.\",\n",
        "\"Google and Twitter made a deal in 2015 that gave Google access to Twitter's firehose.\",\n",
        "\"Twitter is an online news and social networking service on which users post and interact with messages known as tweets.\",\n",
        "\"Before entering politics, Donald Trump was a domineering businessman and a television personality.\",\n",
        "\"The 2018 FIFA World Cup is the 21st FIFA World Cup, an international football tournament contested once every four years.\",\n",
        "\"This is the first World Cup to be held in Eastern Europe and the 11th time that it has been held in Europe.\",\n",
        "\"Show me the cheapest round trips from Dallas to Atlanta\",\n",
        "\"I would like to see flights from Denver to Philadelphia.\",\n",
        "\"Show me the price of the flights leaving Atlanta at about 3 in the afternoon and arriving in San Francisco.\",\n",
        "\"NASA invited social media users to experience the launch of ICESAT-2 Satellite.\"]"
      ],
      "execution_count": 0,
      "outputs": []
    },
    {
      "cell_type": "code",
      "metadata": {
        "colab_type": "code",
        "id": "NT-b02JN6YwY",
        "outputId": "332cc1e0-4ecd-4f1f-81f3-ee3dba862a05",
        "colab": {
          "base_uri": "https://localhost:8080/",
          "height": 1000
        }
      },
      "source": [
        "import nltk\n",
        "nltk.download('punkt')\n",
        "nltk.download('averaged_perceptron_tagger')\n",
        "\n",
        "sample_test_tokenized_sents = [word_tokenize(sent) for sent in sample_test_sentences]\n",
        "sample_test_corpus_pos_tags = nltk.pos_tag_sents(sample_test_tokenized_sents, tagset = 'universal')\n",
        "sample_test_corpus_pos_tags"
      ],
      "execution_count": 33,
      "outputs": [
        {
          "output_type": "stream",
          "text": [
            "[nltk_data] Downloading package punkt to /root/nltk_data...\n",
            "[nltk_data]   Unzipping tokenizers/punkt.zip.\n",
            "[nltk_data] Downloading package averaged_perceptron_tagger to\n",
            "[nltk_data]     /root/nltk_data...\n",
            "[nltk_data]   Unzipping taggers/averaged_perceptron_tagger.zip.\n"
          ],
          "name": "stdout"
        },
        {
          "output_type": "execute_result",
          "data": {
            "text/plain": [
              "[[('Android', 'NOUN'),\n",
              "  ('is', 'VERB'),\n",
              "  ('a', 'DET'),\n",
              "  ('mobile', 'ADJ'),\n",
              "  ('operating', 'NOUN'),\n",
              "  ('system', 'NOUN'),\n",
              "  ('developed', 'VERB'),\n",
              "  ('by', 'ADP'),\n",
              "  ('Google', 'NOUN'),\n",
              "  ('.', '.')],\n",
              " [('Android', 'NOUN'),\n",
              "  ('has', 'VERB'),\n",
              "  ('been', 'VERB'),\n",
              "  ('the', 'DET'),\n",
              "  ('best-selling', 'ADJ'),\n",
              "  ('OS', 'NOUN'),\n",
              "  ('worldwide', 'NOUN'),\n",
              "  ('on', 'ADP'),\n",
              "  ('smartphones', 'NOUN'),\n",
              "  ('since', 'ADP'),\n",
              "  ('2011', 'NUM'),\n",
              "  ('and', 'CONJ'),\n",
              "  ('on', 'ADP'),\n",
              "  ('tablets', 'NOUN'),\n",
              "  ('since', 'ADP'),\n",
              "  ('2013', 'NUM'),\n",
              "  ('.', '.')],\n",
              " [('Google', 'NOUN'),\n",
              "  ('and', 'CONJ'),\n",
              "  ('Twitter', 'NOUN'),\n",
              "  ('made', 'VERB'),\n",
              "  ('a', 'DET'),\n",
              "  ('deal', 'NOUN'),\n",
              "  ('in', 'ADP'),\n",
              "  ('2015', 'NUM'),\n",
              "  ('that', 'DET'),\n",
              "  ('gave', 'VERB'),\n",
              "  ('Google', 'NOUN'),\n",
              "  ('access', 'NOUN'),\n",
              "  ('to', 'PRT'),\n",
              "  ('Twitter', 'NOUN'),\n",
              "  (\"'s\", 'PRT'),\n",
              "  ('firehose', 'NOUN'),\n",
              "  ('.', '.')],\n",
              " [('Twitter', 'NOUN'),\n",
              "  ('is', 'VERB'),\n",
              "  ('an', 'DET'),\n",
              "  ('online', 'ADJ'),\n",
              "  ('news', 'NOUN'),\n",
              "  ('and', 'CONJ'),\n",
              "  ('social', 'ADJ'),\n",
              "  ('networking', 'NOUN'),\n",
              "  ('service', 'NOUN'),\n",
              "  ('on', 'ADP'),\n",
              "  ('which', 'DET'),\n",
              "  ('users', 'NOUN'),\n",
              "  ('post', 'NOUN'),\n",
              "  ('and', 'CONJ'),\n",
              "  ('interact', 'NOUN'),\n",
              "  ('with', 'ADP'),\n",
              "  ('messages', 'NOUN'),\n",
              "  ('known', 'VERB'),\n",
              "  ('as', 'ADP'),\n",
              "  ('tweets', 'NOUN'),\n",
              "  ('.', '.')],\n",
              " [('Before', 'ADP'),\n",
              "  ('entering', 'VERB'),\n",
              "  ('politics', 'NOUN'),\n",
              "  (',', '.'),\n",
              "  ('Donald', 'NOUN'),\n",
              "  ('Trump', 'NOUN'),\n",
              "  ('was', 'VERB'),\n",
              "  ('a', 'DET'),\n",
              "  ('domineering', 'ADJ'),\n",
              "  ('businessman', 'NOUN'),\n",
              "  ('and', 'CONJ'),\n",
              "  ('a', 'DET'),\n",
              "  ('television', 'NOUN'),\n",
              "  ('personality', 'NOUN'),\n",
              "  ('.', '.')],\n",
              " [('The', 'DET'),\n",
              "  ('2018', 'NUM'),\n",
              "  ('FIFA', 'NOUN'),\n",
              "  ('World', 'NOUN'),\n",
              "  ('Cup', 'NOUN'),\n",
              "  ('is', 'VERB'),\n",
              "  ('the', 'DET'),\n",
              "  ('21st', 'NUM'),\n",
              "  ('FIFA', 'NOUN'),\n",
              "  ('World', 'NOUN'),\n",
              "  ('Cup', 'NOUN'),\n",
              "  (',', '.'),\n",
              "  ('an', 'DET'),\n",
              "  ('international', 'ADJ'),\n",
              "  ('football', 'NOUN'),\n",
              "  ('tournament', 'NOUN'),\n",
              "  ('contested', 'VERB'),\n",
              "  ('once', 'ADV'),\n",
              "  ('every', 'DET'),\n",
              "  ('four', 'NUM'),\n",
              "  ('years', 'NOUN'),\n",
              "  ('.', '.')],\n",
              " [('This', 'DET'),\n",
              "  ('is', 'VERB'),\n",
              "  ('the', 'DET'),\n",
              "  ('first', 'ADJ'),\n",
              "  ('World', 'NOUN'),\n",
              "  ('Cup', 'NOUN'),\n",
              "  ('to', 'PRT'),\n",
              "  ('be', 'VERB'),\n",
              "  ('held', 'VERB'),\n",
              "  ('in', 'ADP'),\n",
              "  ('Eastern', 'NOUN'),\n",
              "  ('Europe', 'NOUN'),\n",
              "  ('and', 'CONJ'),\n",
              "  ('the', 'DET'),\n",
              "  ('11th', 'NUM'),\n",
              "  ('time', 'NOUN'),\n",
              "  ('that', 'ADP'),\n",
              "  ('it', 'PRON'),\n",
              "  ('has', 'VERB'),\n",
              "  ('been', 'VERB'),\n",
              "  ('held', 'VERB'),\n",
              "  ('in', 'ADP'),\n",
              "  ('Europe', 'NOUN'),\n",
              "  ('.', '.')],\n",
              " [('Show', 'VERB'),\n",
              "  ('me', 'PRON'),\n",
              "  ('the', 'DET'),\n",
              "  ('cheapest', 'ADJ'),\n",
              "  ('round', 'NOUN'),\n",
              "  ('trips', 'NOUN'),\n",
              "  ('from', 'ADP'),\n",
              "  ('Dallas', 'NOUN'),\n",
              "  ('to', 'PRT'),\n",
              "  ('Atlanta', 'VERB')],\n",
              " [('I', 'PRON'),\n",
              "  ('would', 'VERB'),\n",
              "  ('like', 'VERB'),\n",
              "  ('to', 'PRT'),\n",
              "  ('see', 'VERB'),\n",
              "  ('flights', 'NOUN'),\n",
              "  ('from', 'ADP'),\n",
              "  ('Denver', 'NOUN'),\n",
              "  ('to', 'PRT'),\n",
              "  ('Philadelphia', 'NOUN'),\n",
              "  ('.', '.')],\n",
              " [('Show', 'VERB'),\n",
              "  ('me', 'PRON'),\n",
              "  ('the', 'DET'),\n",
              "  ('price', 'NOUN'),\n",
              "  ('of', 'ADP'),\n",
              "  ('the', 'DET'),\n",
              "  ('flights', 'NOUN'),\n",
              "  ('leaving', 'VERB'),\n",
              "  ('Atlanta', 'NOUN'),\n",
              "  ('at', 'ADP'),\n",
              "  ('about', 'ADV'),\n",
              "  ('3', 'NUM'),\n",
              "  ('in', 'ADP'),\n",
              "  ('the', 'DET'),\n",
              "  ('afternoon', 'NOUN'),\n",
              "  ('and', 'CONJ'),\n",
              "  ('arriving', 'NOUN'),\n",
              "  ('in', 'ADP'),\n",
              "  ('San', 'NOUN'),\n",
              "  ('Francisco', 'NOUN'),\n",
              "  ('.', '.')],\n",
              " [('NASA', 'NOUN'),\n",
              "  ('invited', 'VERB'),\n",
              "  ('social', 'ADJ'),\n",
              "  ('media', 'NOUN'),\n",
              "  ('users', 'NOUN'),\n",
              "  ('to', 'PRT'),\n",
              "  ('experience', 'VERB'),\n",
              "  ('the', 'DET'),\n",
              "  ('launch', 'NOUN'),\n",
              "  ('of', 'ADP'),\n",
              "  ('ICESAT-2', 'NOUN'),\n",
              "  ('Satellite', 'NOUN'),\n",
              "  ('.', '.')]]"
            ]
          },
          "metadata": {
            "tags": []
          },
          "execution_count": 33
        }
      ]
    },
    {
      "cell_type": "code",
      "metadata": {
        "colab_type": "code",
        "id": "ovLUA8Tg6Ywb",
        "colab": {}
      },
      "source": [
        "# list of untagged words from the sample test data provided\n",
        "sample_test_tagged_words = [tup[0] for sent in sample_test_corpus_pos_tags for tup in sent]\n",
        "\n",
        "# list of tagged words\n",
        "sample_test_test_run_base = [tup for sent in sample_test_corpus_pos_tags for tup in sent]"
      ],
      "execution_count": 0,
      "outputs": []
    },
    {
      "cell_type": "code",
      "metadata": {
        "colab_type": "code",
        "id": "ZlLx9BRp6Ywf",
        "colab": {}
      },
      "source": [
        "sample_test_tagged_words[:2]"
      ],
      "execution_count": 0,
      "outputs": []
    },
    {
      "cell_type": "code",
      "metadata": {
        "colab_type": "code",
        "id": "x1EFwR1o6Ywj",
        "outputId": "6f98e26e-8336-489e-850e-b6a73f7abfc8",
        "colab": {
          "base_uri": "https://localhost:8080/",
          "height": 34
        }
      },
      "source": [
        "# 1. Vanilla Viterbi\n",
        "# tagging the test sentences\n",
        "sample_test_tagged_seq = Vanilla_Viterbi(sample_test_tagged_words)\n",
        "\n",
        "# Let's check the accuracy of the vanilla viterbi algorithm\n",
        "sample_test_check = [i for i, j in zip(sample_test_tagged_seq, sample_test_test_run_base) if i == j]\n",
        "\n",
        "vanilla_viterbi_accuracy_on_sample_test_data = len(sample_test_check)/len(sample_test_tagged_seq)\n",
        "\n",
        "print(\"The accuracy of the Vanilla Viterbi Algorithm on the sample test data is -\", vanilla_viterbi_accuracy_on_sample_test_data)"
      ],
      "execution_count": 35,
      "outputs": [
        {
          "output_type": "stream",
          "text": [
            "The accuracy of the Vanilla Viterbi Algorithm on the sample test data is - 0.7569060773480663\n"
          ],
          "name": "stdout"
        }
      ]
    },
    {
      "cell_type": "code",
      "metadata": {
        "colab_type": "code",
        "id": "kR_Jpi6X6Ywo",
        "outputId": "fd0843f6-8f99-4081-d20a-fdbf63da1d30",
        "colab": {
          "base_uri": "https://localhost:8080/",
          "height": 34
        }
      },
      "source": [
        "# 2. Vanilla Viterbi Method 2\n",
        "# tagging the test sentences\n",
        "sample_test_unknown_word_tagged_seq = Vanilla_Viterbi_Method_1(sample_test_tagged_words)\n",
        "\n",
        "# accuracy\n",
        "sample_test_unknown_word_check = [i for i, j in zip(sample_test_unknown_word_tagged_seq, sample_test_test_run_base) if i == j]\n",
        "\n",
        "sample_test_viterbi_method1_accuracy = len(sample_test_unknown_word_check)/len(sample_test_unknown_word_tagged_seq)\n",
        "\n",
        "print(\"The accuracy of the Vanilla_Viterbi_for_unknown_words_method_1 on the sample test data is -\", sample_test_viterbi_method1_accuracy)\n"
      ],
      "execution_count": 36,
      "outputs": [
        {
          "output_type": "stream",
          "text": [
            "The accuracy of the Vanilla_Viterbi_for_unknown_words_method_1 on the sample test data is - 0.856353591160221\n"
          ],
          "name": "stdout"
        }
      ]
    },
    {
      "cell_type": "code",
      "metadata": {
        "colab_type": "code",
        "id": "0PxrGWuT6Ywy",
        "outputId": "16f150f8-069b-4123-d2c3-a6d366360444",
        "colab": {
          "base_uri": "https://localhost:8080/",
          "height": 34
        }
      },
      "source": [
        "#3. Vanilla Viterbi Method 2\n",
        "# tagging the test sentences\n",
        "sample_test_viterbi_unigram_tagged_seq = Vanilla_Viterbi_Method_2(sample_test_tagged_words)\n",
        "\n",
        "# accuracy\n",
        "sample_test_viterbi_unigram_check = [i for i, j in zip(sample_test_viterbi_unigram_tagged_seq, sample_test_test_run_base) if i == j]\n",
        "\n",
        "sample_test_viterbi_method2_accuracy = len(sample_test_viterbi_unigram_check)/len(sample_test_viterbi_unigram_tagged_seq)\n",
        "\n",
        "print(\"The accuracy of the Vanilla_Viterbi_for_unknown_words_method_2 on the sample test data is -\", sample_test_viterbi_method2_accuracy)\n"
      ],
      "execution_count": 37,
      "outputs": [
        {
          "output_type": "stream",
          "text": [
            "The accuracy of the Vanilla_Viterbi_for_unknown_words_method_2 on the sample test data is - 0.9281767955801105\n"
          ],
          "name": "stdout"
        }
      ]
    },
    {
      "cell_type": "code",
      "metadata": {
        "colab_type": "code",
        "id": "pvP-lizJ6Yw5",
        "colab": {}
      },
      "source": [
        "acccuracy_on_sample_test_data = [['Vanilla Viterbi', vanilla_viterbi_accuracy_on_sample_test_data*100], \n",
        "                  ['Vanilla Viterbi + Transition Prob.' , sample_test_viterbi_method1_accuracy*100], \n",
        "                  ['Vanilla Viterbi + Unigram_backedup_by_rulebased', sample_test_viterbi_method2_accuracy*100]]\n",
        "\n",
        "sample_test_data_acccuracy_df = pd.DataFrame(acccuracy_on_sample_test_data, columns = ['Tagging_Algorithm', 'Tagging_Accuracy'])\n",
        "\n",
        "sample_test_data_acccuracy_df.set_index('Tagging_Algorithm', drop = True, inplace = True)"
      ],
      "execution_count": 0,
      "outputs": []
    },
    {
      "cell_type": "code",
      "metadata": {
        "colab_type": "code",
        "id": "BJcGKDDt6Yw-",
        "outputId": "30c2d3c2-21c6-4947-a1cc-b31c25084512",
        "colab": {
          "base_uri": "https://localhost:8080/",
          "height": 173
        }
      },
      "source": [
        "sample_test_data_acccuracy_df"
      ],
      "execution_count": 39,
      "outputs": [
        {
          "output_type": "execute_result",
          "data": {
            "text/html": [
              "<div>\n",
              "<style scoped>\n",
              "    .dataframe tbody tr th:only-of-type {\n",
              "        vertical-align: middle;\n",
              "    }\n",
              "\n",
              "    .dataframe tbody tr th {\n",
              "        vertical-align: top;\n",
              "    }\n",
              "\n",
              "    .dataframe thead th {\n",
              "        text-align: right;\n",
              "    }\n",
              "</style>\n",
              "<table border=\"1\" class=\"dataframe\">\n",
              "  <thead>\n",
              "    <tr style=\"text-align: right;\">\n",
              "      <th></th>\n",
              "      <th>Tagging_Accuracy</th>\n",
              "    </tr>\n",
              "    <tr>\n",
              "      <th>Tagging_Algorithm</th>\n",
              "      <th></th>\n",
              "    </tr>\n",
              "  </thead>\n",
              "  <tbody>\n",
              "    <tr>\n",
              "      <th>Vanilla Viterbi</th>\n",
              "      <td>75.690608</td>\n",
              "    </tr>\n",
              "    <tr>\n",
              "      <th>Vanilla Viterbi + Transition Prob.</th>\n",
              "      <td>85.635359</td>\n",
              "    </tr>\n",
              "    <tr>\n",
              "      <th>Vanilla Viterbi + Unigram_backedup_by_rulebased</th>\n",
              "      <td>92.817680</td>\n",
              "    </tr>\n",
              "  </tbody>\n",
              "</table>\n",
              "</div>"
            ],
            "text/plain": [
              "                                                 Tagging_Accuracy\n",
              "Tagging_Algorithm                                                \n",
              "Vanilla Viterbi                                         75.690608\n",
              "Vanilla Viterbi + Transition Prob.                      85.635359\n",
              "Vanilla Viterbi + Unigram_backedup_by_rulebased         92.817680"
            ]
          },
          "metadata": {
            "tags": []
          },
          "execution_count": 39
        }
      ]
    },
    {
      "cell_type": "code",
      "metadata": {
        "colab_type": "code",
        "id": "5riTnXBs6YxE",
        "outputId": "83b9e7eb-5abe-46f4-e463-04369fdde22a",
        "colab": {
          "base_uri": "https://localhost:8080/",
          "height": 539
        }
      },
      "source": [
        "sample_test_data_acccuracy_df.plot.line(rot = 90, legend = False)"
      ],
      "execution_count": 40,
      "outputs": [
        {
          "output_type": "execute_result",
          "data": {
            "text/plain": [
              "<matplotlib.axes._subplots.AxesSubplot at 0x7f3137d360f0>"
            ]
          },
          "metadata": {
            "tags": []
          },
          "execution_count": 40
        },
        {
          "output_type": "display_data",
          "data": {
            "image/png": "[encoded data removed]",
            "text/plain": [
              "<Figure size 432x288 with 1 Axes>"
            ]
          },
          "metadata": {
            "tags": [],
            "needs_background": "light"
          }
        }
      ]
    },
    {
      "cell_type": "markdown",
      "metadata": {
        "colab_type": "text",
        "id": "GHcWx6Ni6YxK"
      },
      "source": [
        "### List down cases which were incorrectly tagged by original POS tagger and got corrected by your modifications"
      ]
    },
    {
      "cell_type": "code",
      "metadata": {
        "colab_type": "code",
        "id": "eUbTTZrf6YxN",
        "outputId": "cf4cad4e-2f5d-4216-a5ba-bf6d3e29a739",
        "colab": {
          "base_uri": "https://localhost:8080/",
          "height": 359
        }
      },
      "source": [
        "test_sentence_1 = 'Android is a mobile operating system developed by Google.'\n",
        "\n",
        "words_test_sentence_1 = nltk.word_tokenize(test_sentence_1)\n",
        "\n",
        "# pos tags with Vanilla_Viterbi\n",
        "pos_tagged_sequence_with_vanilla_viterbi = Vanilla_Viterbi(words_test_sentence_1)\n",
        "pos_tagged_sequence_with_viterbi_method2 = Vanilla_Viterbi_Method_2(words_test_sentence_1)\n",
        "\n",
        "# Creating dataframe for comparison\n",
        "cols = ['vanilla_viterbi_tags', 'viterbi_method2_tags_with_corrections']\n",
        "tags_correction = pd.DataFrame(columns = cols)\n",
        "tags_correction = tags_correction.fillna(0)\n",
        "\n",
        "tags_correction.vanilla_viterbi_tags = [tup for tup in pos_tagged_sequence_with_vanilla_viterbi]\n",
        "tags_correction.viterbi_method2_tags_with_corrections = [tup for tup in pos_tagged_sequence_with_viterbi_method2]\n",
        "\n",
        "tags_correction"
      ],
      "execution_count": 41,
      "outputs": [
        {
          "output_type": "execute_result",
          "data": {
            "text/html": [
              "<div>\n",
              "<style scoped>\n",
              "    .dataframe tbody tr th:only-of-type {\n",
              "        vertical-align: middle;\n",
              "    }\n",
              "\n",
              "    .dataframe tbody tr th {\n",
              "        vertical-align: top;\n",
              "    }\n",
              "\n",
              "    .dataframe thead th {\n",
              "        text-align: right;\n",
              "    }\n",
              "</style>\n",
              "<table border=\"1\" class=\"dataframe\">\n",
              "  <thead>\n",
              "    <tr style=\"text-align: right;\">\n",
              "      <th></th>\n",
              "      <th>vanilla_viterbi_tags</th>\n",
              "      <th>viterbi_method2_tags_with_corrections</th>\n",
              "    </tr>\n",
              "  </thead>\n",
              "  <tbody>\n",
              "    <tr>\n",
              "      <th>0</th>\n",
              "      <td>(Android, PRT)</td>\n",
              "      <td>(Android, NOUN)</td>\n",
              "    </tr>\n",
              "    <tr>\n",
              "      <th>1</th>\n",
              "      <td>(is, VERB)</td>\n",
              "      <td>(is, VERB)</td>\n",
              "    </tr>\n",
              "    <tr>\n",
              "      <th>2</th>\n",
              "      <td>(a, DET)</td>\n",
              "      <td>(a, DET)</td>\n",
              "    </tr>\n",
              "    <tr>\n",
              "      <th>3</th>\n",
              "      <td>(mobile, ADJ)</td>\n",
              "      <td>(mobile, ADJ)</td>\n",
              "    </tr>\n",
              "    <tr>\n",
              "      <th>4</th>\n",
              "      <td>(operating, NOUN)</td>\n",
              "      <td>(operating, NOUN)</td>\n",
              "    </tr>\n",
              "    <tr>\n",
              "      <th>5</th>\n",
              "      <td>(system, NOUN)</td>\n",
              "      <td>(system, NOUN)</td>\n",
              "    </tr>\n",
              "    <tr>\n",
              "      <th>6</th>\n",
              "      <td>(developed, VERB)</td>\n",
              "      <td>(developed, VERB)</td>\n",
              "    </tr>\n",
              "    <tr>\n",
              "      <th>7</th>\n",
              "      <td>(by, ADP)</td>\n",
              "      <td>(by, ADP)</td>\n",
              "    </tr>\n",
              "    <tr>\n",
              "      <th>8</th>\n",
              "      <td>(Google, PRT)</td>\n",
              "      <td>(Google, NOUN)</td>\n",
              "    </tr>\n",
              "    <tr>\n",
              "      <th>9</th>\n",
              "      <td>(., .)</td>\n",
              "      <td>(., .)</td>\n",
              "    </tr>\n",
              "  </tbody>\n",
              "</table>\n",
              "</div>"
            ],
            "text/plain": [
              "  vanilla_viterbi_tags viterbi_method2_tags_with_corrections\n",
              "0       (Android, PRT)                       (Android, NOUN)\n",
              "1           (is, VERB)                            (is, VERB)\n",
              "2             (a, DET)                              (a, DET)\n",
              "3        (mobile, ADJ)                         (mobile, ADJ)\n",
              "4    (operating, NOUN)                     (operating, NOUN)\n",
              "5       (system, NOUN)                        (system, NOUN)\n",
              "6    (developed, VERB)                     (developed, VERB)\n",
              "7            (by, ADP)                             (by, ADP)\n",
              "8        (Google, PRT)                        (Google, NOUN)\n",
              "9               (., .)                                (., .)"
            ]
          },
          "metadata": {
            "tags": []
          },
          "execution_count": 41
        }
      ]
    },
    {
      "cell_type": "code",
      "metadata": {
        "colab_type": "code",
        "id": "H25G2pnc6YxS",
        "colab": {}
      },
      "source": [
        ""
      ],
      "execution_count": 0,
      "outputs": []
    },
    {
      "cell_type": "code",
      "metadata": {
        "colab_type": "code",
        "id": "Oq9Dz_Mf6YxX",
        "colab": {}
      },
      "source": [
        ""
      ],
      "execution_count": 0,
      "outputs": []
    }
  ]
}